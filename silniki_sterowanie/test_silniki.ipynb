{
 "cells": [
  {
   "cell_type": "code",
   "execution_count": 1,
   "metadata": {},
   "outputs": [],
   "source": [
    "import ctypes"
   ]
  },
  {
   "cell_type": "code",
   "execution_count": 2,
   "metadata": {},
   "outputs": [],
   "source": [
    "#i = c848.C848_InterfaceSetupDlg()"
   ]
  },
  {
   "cell_type": "code",
   "execution_count": 3,
   "metadata": {},
   "outputs": [],
   "source": [
    "def load_drivers(filename='C848_DLL.dll'):\n",
    "    return ctypes.CDLL('C848_DLL.dll')"
   ]
  },
  {
   "cell_type": "code",
   "execution_count": 4,
   "metadata": {},
   "outputs": [],
   "source": [
    "def conncect_to_controller(driver):\n",
    "    '''\n",
    "    connects to C848 controler using given driver\n",
    "    return controller id or None if conection was not successful\n",
    "    '''\n",
    "    connect_fun = driver.C848_ConnectRS232\n",
    "    connect_fun.argtypes = [ctypes.c_int, ctypes.c_long]\n",
    "    controller_id = connect_fun(4, 57600)\n",
    "    return controller_id if controller_id != -1 else None"
   ]
  },
  {
   "cell_type": "code",
   "execution_count": 5,
   "metadata": {},
   "outputs": [],
   "source": [
    "def is_connected(controller_id):\n",
    "    '''\n",
    "    checks if connection to C848 was established\n",
    "    return True if there connection a connection to controller with given controller_id, else returns false\n",
    "    '''\n",
    "    return bool(c848.C848_IsConnected(ctypes.c_int(controller_id)))  "
   ]
  },
  {
   "cell_type": "code",
   "execution_count": 6,
   "metadata": {},
   "outputs": [],
   "source": [
    "def close_connection(controller_id):\n",
    "    '''\n",
    "    closes connection to C848 controler with given controller_id\n",
    "    ''' \n",
    "    c848.C848_CloseConnection(ctypes.c_int(controller_id))"
   ]
  },
  {
   "cell_type": "code",
   "execution_count": 7,
   "metadata": {},
   "outputs": [],
   "source": [
    "def get_axes(axes = 'XYZ'):\n",
    "    '''\n",
    "    converts \"xyz\" string to \"ABC\" string needed to give axes to c848 controller\n",
    "    #A = x\n",
    "    #B = y\n",
    "    #C = z\n",
    "    '''\n",
    "    axes_map = {'x': 'A', 'y': 'B', 'z': 'C'}\n",
    "    abc_list = [axes_map[ax] for ax in list(axes.lower())]\n",
    "    return ''.join(abc_list)"
   ]
  },
  {
   "cell_type": "code",
   "execution_count": 8,
   "metadata": {},
   "outputs": [],
   "source": [
    "def get_szAxes(axes = 'XYZ'):\n",
    "    '''\n",
    "    Takes string defining axes as parameter (axes defined in XYZ string)\n",
    "    return char pointer to string with axes, usually char *const szAxes parameter in c848 dll functions.\n",
    "    '''\n",
    "    axes_ABC = get_axes(axes)\n",
    "    return ctypes.c_char_p(axes_ABC.encode('utf-8'))"
   ]
  },
  {
   "cell_type": "code",
   "execution_count": 9,
   "metadata": {},
   "outputs": [],
   "source": [
    "def convert_id(controller_id):\n",
    "    '''\n",
    "    converts controller_id to c_int\n",
    "    '''\n",
    "    return ctypes.c_int(controller_id)"
   ]
  },
  {
   "cell_type": "code",
   "execution_count": 10,
   "metadata": {},
   "outputs": [],
   "source": [
    "def create_bool_array(size = 1, values=0):\n",
    "    '''\n",
    "    takes size of array as parameter\n",
    "    creates bool array of given size filled with true values\n",
    "    returns c pointer to this array\n",
    "    '''\n",
    "    b = (ctypes.c_bool * size)(*[values] * size)\n",
    "    return ctypes.cast(b, ctypes.POINTER(ctypes.c_bool))"
   ]
  },
  {
   "cell_type": "code",
   "execution_count": 11,
   "metadata": {},
   "outputs": [],
   "source": [
    "def create_double_array(size = 1, positions=None):\n",
    "    '''\n",
    "    takes size of array as parameter\n",
    "    creates double array of given size filled with 25.0 values\n",
    "    returns c pointer to this array\n",
    "    '''\n",
    "    if positions == None:\n",
    "        positions = [25.0] * size\n",
    "        \n",
    "    arr = (ctypes.c_double * size)(*positions)\n",
    "    return ctypes.cast(arr, ctypes.POINTER(ctypes.c_double))"
   ]
  },
  {
   "cell_type": "code",
   "execution_count": 12,
   "metadata": {},
   "outputs": [],
   "source": [
    "def get_axes_positions(controller_id, axes='xyz'):\n",
    "    '''\n",
    "    function gives positions of given axes\n",
    "    \n",
    "    returns list of positions in order of given axes\n",
    "    '''\n",
    "    c_id = convert_id(controller_id)\n",
    "    sz_axes = get_szAxes(axes)\n",
    "    c_double_array = create_double_array(size=len(axes))\n",
    "    if c848.C848_qPOS(c_id, sz_axes, c_double_array):\n",
    "        return c_double_array[:len(axes)]\n",
    "    else:\n",
    "        print('something went terribly wrong')"
   ]
  },
  {
   "cell_type": "code",
   "execution_count": 13,
   "metadata": {},
   "outputs": [],
   "source": [
    "def move_axes_to_abs(controller_id, axes='xyz', positions = [25.0, 25.0, 25.0]):\n",
    "    '''\n",
    "    moves axes to absolute positions given in parameter positions\n",
    "    positions needs to be between 0 and 50,\n",
    "    axes that should be moved are given in parameter axes\n",
    "    '''\n",
    "    if len(axes) != len(positions):\n",
    "        print('number of axes and positions must be the same!')\n",
    "        return None\n",
    "    \n",
    "    c_id = convert_id(controller_id)\n",
    "    sz_axes = get_szAxes(axes)\n",
    "    c_double_array = create_double_array(len(axes), positions)\n",
    "    success = c848.C848_MOV(c_id, sz_axes, c_double_array)\n",
    "    \n",
    "    return bool(success)"
   ]
  },
  {
   "cell_type": "code",
   "execution_count": 14,
   "metadata": {},
   "outputs": [],
   "source": [
    "# Niektóre funkcje dll dla C848 muszą wywoływać się na pojedyńczej osi na raz\\\n",
    "# Inaczej działają tylko na pierwszej podanej osi\n",
    "# Jest to jakiś błąd\n",
    "\n",
    "def check_reference_status(controller_id, axes='xyz'):\n",
    "    '''\n",
    "    function check if given axes have reference\n",
    "    returns dictionary with axes as keys and boolean values\n",
    "    '''\n",
    "    c_id = convert_id(controller_id)\n",
    "    status = {}\n",
    "    for c in axes:\n",
    "        axis = get_szAxes(c)\n",
    "        bool_array = create_bool_array(size=1)\n",
    "        check = c848.C848_IsReferenceOK(c_id, axis, bool_array)\n",
    "        \n",
    "        if check != 1:\n",
    "            print('something went terribly wrong')\n",
    "            return\n",
    "        \n",
    "        status[c] = bool_array[0]\n",
    "    return status\n",
    "\n",
    "\n",
    "def is_referencing(controller_id, axes):\n",
    "    '''\n",
    "    checks if any axis is referencing in the moment\n",
    "    returns boolean value - True if any axis is in the middle of referencing\n",
    "    '''\n",
    "    c_id = convert_id(controller_id)\n",
    "    status = {}\n",
    "    for c in axes:\n",
    "        axis = get_szAxes(c)\n",
    "        bool_array = create_bool_array(size=1)\n",
    "        check = c848.C848_IsReferencing(c_id, axis, bool_array)\n",
    "        \n",
    "        if check != 1:\n",
    "            print('something went terribly wrong')\n",
    "            return\n",
    "        \n",
    "        status[c] = bool_array[0]\n",
    "    return any(status.values())\n",
    "\n",
    "def reference_axes(controller_id, axes='xyz'):  \n",
    "    '''\n",
    "    moves given axes to reference points and sets references\n",
    "    '''\n",
    "    c_id = convert_id(controller_id)\n",
    "    sz_axes = get_szAxes(axes)\n",
    "    success = c848.C848_REF(c_id, sz_axes)\n",
    "    return bool(success)\n",
    "\n",
    "def init_axes(controller_id, axes='xyz'):    \n",
    "    '''\n",
    "    trzeba doczytac - kasuje refenrecje na pewno\n",
    "    '''\n",
    "    c_id = convert_id(controller_id)\n",
    "    sz_axes = get_szAxes(axes)\n",
    "    success = c848.C848_INI(c_id, sz_axes)\n",
    "    return bool(success)"
   ]
  },
  {
   "cell_type": "code",
   "execution_count": 15,
   "metadata": {},
   "outputs": [],
   "source": [
    "def emergency_stop(controller_id):\n",
    "    '''\n",
    "    emergency stop of movements for all axes\n",
    "    '''\n",
    "    c_id = convert_id(controller_id)\n",
    "    return c848.C848_EmergencyStop(c_id)"
   ]
  },
  {
   "cell_type": "code",
   "execution_count": 16,
   "metadata": {},
   "outputs": [],
   "source": [
    "def simple_stop(controller_id):\n",
    "    '''\n",
    "    stops movement of all axes\n",
    "    '''\n",
    "    c_id = convert_id(controller_id)\n",
    "    return c848.C848_STP(c_id)"
   ]
  },
  {
   "cell_type": "code",
   "execution_count": 17,
   "metadata": {},
   "outputs": [],
   "source": [
    "def check_on_target(controller_id, axes='xyz'):\n",
    "    '''\n",
    "    function check if given axes is on target\n",
    "    returns dictionary with axes as keys and boolean values\n",
    "    '''\n",
    "    c_id = convert_id(controller_id)\n",
    "    status = {}\n",
    "    for c in axes:\n",
    "        axis = get_szAxes(c)\n",
    "        bool_array = create_bool_array(size=1)\n",
    "        check = c848.C848_qONT(c_id, axis, bool_array)\n",
    "        \n",
    "        if check != 1:\n",
    "            print('something went terribly wrong')\n",
    "            return\n",
    "        \n",
    "        status[c] = bool_array[0]\n",
    "    return status\n",
    "\n",
    "def check_referencing_mode(controller_id, axes='xyz'):\n",
    "    '''\n",
    "    function check if given axes are in referencing mode\n",
    "    returns dictionary with axes as keys and boolean values\n",
    "    '''\n",
    "    c_id = convert_id(controller_id)\n",
    "    status = {}\n",
    "    for c in axes:\n",
    "        axis = get_szAxes(c)\n",
    "        bool_array = create_bool_array(size=1)\n",
    "        check = c848.C848_qRON(c_id, axis, bool_array)\n",
    "        \n",
    "        if check != 1:\n",
    "            print('something went terribly wrong')\n",
    "            return\n",
    "        \n",
    "        status[c] = bool_array[0]\n",
    "    return status\n",
    "\n",
    "def set_referencing_mode(controller_id, axes='xyz', on=True):\n",
    "    '''\n",
    "    function sets axes to referencing mode or turns it of\n",
    "    '''\n",
    "    c_id = convert_id(controller_id)\n",
    "    for c in axes:\n",
    "        axis = get_szAxes(c)\n",
    "        bool_array = create_bool_array(size=1, values=on)\n",
    "        check = c848.C848_RON(c_id, axis, bool_array)\n",
    "    return bool(check)"
   ]
  },
  {
   "cell_type": "code",
   "execution_count": 18,
   "metadata": {},
   "outputs": [],
   "source": [
    "def set_abs_positions(controller_id, axes='xyz', positions = None):\n",
    "    '''\n",
    "    set absolut positions for not referenced axes\n",
    "    \n",
    "    referencing mode has to be turned off (function set_referencing_mode)\n",
    "    '''\n",
    "    if positions == None:\n",
    "        return None\n",
    "    \n",
    "    if len(axes) != len(positions):\n",
    "        print('number of axes and positions must be the same!')\n",
    "        return None\n",
    "    \n",
    "    c_id = convert_id(controller_id)\n",
    "    sz_axes = get_szAxes(axes)\n",
    "    c_double_array = create_double_array(len(axes), positions)\n",
    "    success = c848.C848_POS(c_id, sz_axes, c_double_array)\n",
    "    \n",
    "    return bool(success)"
   ]
  },
  {
   "cell_type": "code",
   "execution_count": 20,
   "metadata": {},
   "outputs": [
    {
     "name": "stdout",
     "output_type": "stream",
     "text": [
      "<CDLL 'C848_DLL.dll', handle 10000000 at 0x3fd63d0>\n",
      "controller_id: 0\n",
      "is connected: True\n"
     ]
    }
   ],
   "source": [
    "c848 = load_drivers()\n",
    "print(c848)\n",
    "\n",
    "controller_id = conncect_to_controller(c848)\n",
    "print('controller_id:', controller_id)\n",
    "print('is connected:', is_connected(controller_id))"
   ]
  },
  {
   "cell_type": "code",
   "execution_count": 29,
   "metadata": {},
   "outputs": [
    {
     "data": {
      "text/plain": [
       "True"
      ]
     },
     "execution_count": 29,
     "metadata": {},
     "output_type": "execute_result"
    }
   ],
   "source": [
    "move_axes_to_abs(controller_id, axes='xyz', positions=[25, 30., 27.0])"
   ]
  },
  {
   "cell_type": "code",
   "execution_count": 85,
   "metadata": {},
   "outputs": [
    {
     "data": {
      "text/plain": [
       "1"
      ]
     },
     "execution_count": 85,
     "metadata": {},
     "output_type": "execute_result"
    }
   ],
   "source": [
    "simple_stop(controller_id)"
   ]
  },
  {
   "cell_type": "code",
   "execution_count": 26,
   "metadata": {},
   "outputs": [
    {
     "data": {
      "text/plain": [
       "True"
      ]
     },
     "execution_count": 26,
     "metadata": {},
     "output_type": "execute_result"
    }
   ],
   "source": [
    "reference_axes(controller_id, axes='xyz')"
   ]
  },
  {
   "cell_type": "code",
   "execution_count": 23,
   "metadata": {},
   "outputs": [
    {
     "data": {
      "text/plain": [
       "False"
      ]
     },
     "execution_count": 23,
     "metadata": {},
     "output_type": "execute_result"
    }
   ],
   "source": [
    "is_referencing(controller_id, axes='xyz')"
   ]
  },
  {
   "cell_type": "code",
   "execution_count": 27,
   "metadata": {},
   "outputs": [
    {
     "data": {
      "text/plain": [
       "[25.0, 25.0, 25.0]"
      ]
     },
     "execution_count": 27,
     "metadata": {},
     "output_type": "execute_result"
    }
   ],
   "source": [
    "get_axes_positions(controller_id, axes='xyz')"
   ]
  },
  {
   "cell_type": "code",
   "execution_count": 34,
   "metadata": {},
   "outputs": [],
   "source": [
    "close_connection(controller_id)"
   ]
  },
  {
   "cell_type": "code",
   "execution_count": 49,
   "metadata": {},
   "outputs": [
    {
     "data": {
      "text/plain": [
       "{'x': True, 'y': True, 'z': True}"
      ]
     },
     "execution_count": 49,
     "metadata": {},
     "output_type": "execute_result"
    }
   ],
   "source": [
    "check_reference_status(controller_id, axes='xyz')"
   ]
  },
  {
   "cell_type": "code",
   "execution_count": null,
   "metadata": {},
   "outputs": [],
   "source": [
    "# BOOL C848_IsMoving (const const int ID, char *const szAxes, BOOL * pbValarray)"
   ]
  },
  {
   "cell_type": "code",
   "execution_count": 33,
   "metadata": {},
   "outputs": [
    {
     "data": {
      "text/plain": [
       "[25.0, 25.0, 25.0]"
      ]
     },
     "execution_count": 33,
     "metadata": {},
     "output_type": "execute_result"
    }
   ],
   "source": [
    "positions = get_axes_positions(controller_id, 'xyz')\n",
    "positions"
   ]
  },
  {
   "cell_type": "code",
   "execution_count": 20,
   "metadata": {},
   "outputs": [],
   "source": [
    "def save_positions(controller_id):\n",
    "    '''\n",
    "    saves positions of axes in a config file\n",
    "    '''\n",
    "    axes = 'xyz'\n",
    "    positions = get_axes_positions(controller_id, axes)\n",
    "    with open('positions.txt', 'w') as file:\n",
    "        for ax, position in zip(axes, positions):\n",
    "            file.write('{}: {}\\n'.format(ax, position))"
   ]
  },
  {
   "cell_type": "code",
   "execution_count": 21,
   "metadata": {},
   "outputs": [],
   "source": [
    "def read_positions():\n",
    "    '''\n",
    "    read positions of axes from a config file\n",
    "    '''\n",
    "    position_dict = {}\n",
    "    with open('positions.txt', 'r') as file:\n",
    "        for line in file:\n",
    "            ax, position = line.split(':')\n",
    "            position_dict[ax.strip()] = float(position.strip())\n",
    "    return position_dict"
   ]
  },
  {
   "cell_type": "code",
   "execution_count": 22,
   "metadata": {},
   "outputs": [],
   "source": [
    "def split_axes_positions(position_dict):\n",
    "    '''\n",
    "    reads dictionary with posiotions and converts it to tuple with axes string and list of positions\n",
    "    '''\n",
    "    axes = []\n",
    "    positions = []\n",
    "    for ax, position in position_dict.items():\n",
    "        axes.append(ax)\n",
    "        positions.append(position)\n",
    "\n",
    "    axes = ''.join(axes)\n",
    "    return axes, positions"
   ]
  },
  {
   "cell_type": "code",
   "execution_count": 23,
   "metadata": {},
   "outputs": [],
   "source": [
    "def set_abs_positions_from_file(controller_id):\n",
    "    '''\n",
    "    function turns off referencing mode and sets axes absolute positions read from conf file.\n",
    "    '''\n",
    "    set_referencing_mode(controller_id, on=False)\n",
    "    position_dict = read_positions()\n",
    "   # print(position_dict)\n",
    "    axes, positions = split_axes_positions(position_dict)\n",
    "   # print(axes, positions)\n",
    "    return set_abs_positions(controller_id, axes=axes, positions=positions)"
   ]
  },
  {
   "cell_type": "code",
   "execution_count": 66,
   "metadata": {},
   "outputs": [
    {
     "data": {
      "text/plain": [
       "True"
      ]
     },
     "execution_count": 66,
     "metadata": {},
     "output_type": "execute_result"
    }
   ],
   "source": [
    "set_abs_positions_from_file(controller_id)"
   ]
  },
  {
   "cell_type": "code",
   "execution_count": 64,
   "metadata": {},
   "outputs": [],
   "source": [
    "save_positions(controller_id)"
   ]
  },
  {
   "cell_type": "code",
   "execution_count": 68,
   "metadata": {},
   "outputs": [
    {
     "data": {
      "text/plain": [
       "{'x': False, 'y': False, 'z': False}"
      ]
     },
     "execution_count": 68,
     "metadata": {},
     "output_type": "execute_result"
    }
   ],
   "source": [
    "check_referencing_mode(controller_id, 'xyz')"
   ]
  },
  {
   "cell_type": "code",
   "execution_count": 82,
   "metadata": {},
   "outputs": [],
   "source": [
    "set_referencing_mode(controller_id, on=False)\n",
    "set_abs_positions(controller_id)"
   ]
  },
  {
   "cell_type": "code",
   "execution_count": 67,
   "metadata": {},
   "outputs": [
    {
     "data": {
      "text/plain": [
       "{'x': False, 'y': False, 'z': False}"
      ]
     },
     "execution_count": 67,
     "metadata": {},
     "output_type": "execute_result"
    }
   ],
   "source": [
    "check_referencing_mode(controller_id, 'xyz')"
   ]
  },
  {
   "cell_type": "code",
   "execution_count": 20,
   "metadata": {},
   "outputs": [
    {
     "data": {
      "text/plain": [
       "[False, False, False]"
      ]
     },
     "execution_count": 20,
     "metadata": {},
     "output_type": "execute_result"
    }
   ],
   "source": [
    "bool_array_3 = create_bool_array(size=3)\n",
    "bool_array_3[0:3]"
   ]
  },
  {
   "cell_type": "code",
   "execution_count": 35,
   "metadata": {},
   "outputs": [
    {
     "data": {
      "text/plain": [
       "{'x': True, 'y': True, 'z': True}"
      ]
     },
     "execution_count": 35,
     "metadata": {},
     "output_type": "execute_result"
    }
   ],
   "source": [
    "check_on_target(controller_id)"
   ]
  },
  {
   "cell_type": "code",
   "execution_count": 88,
   "metadata": {},
   "outputs": [
    {
     "data": {
      "text/plain": [
       "{'x': True, 'y': True, 'z': True}"
      ]
     },
     "execution_count": 88,
     "metadata": {},
     "output_type": "execute_result"
    }
   ],
   "source": [
    "check_reference_status(controller_id, 'xyz')"
   ]
  },
  {
   "cell_type": "code",
   "execution_count": 85,
   "metadata": {},
   "outputs": [
    {
     "data": {
      "text/plain": [
       "True"
      ]
     },
     "execution_count": 85,
     "metadata": {},
     "output_type": "execute_result"
    }
   ],
   "source": [
    "init_axes(controller_id)"
   ]
  },
  {
   "cell_type": "code",
   "execution_count": 56,
   "metadata": {},
   "outputs": [
    {
     "data": {
      "text/plain": [
       "{'x': False, 'y': False, 'z': False}"
      ]
     },
     "execution_count": 56,
     "metadata": {},
     "output_type": "execute_result"
    }
   ],
   "source": [
    "check_reference_status(controller_id, 'xyz')"
   ]
  },
  {
   "cell_type": "code",
   "execution_count": 57,
   "metadata": {},
   "outputs": [
    {
     "data": {
      "text/plain": [
       "True"
      ]
     },
     "execution_count": 57,
     "metadata": {},
     "output_type": "execute_result"
    }
   ],
   "source": [
    "reference_axes(controller_id, 'xyz')"
   ]
  },
  {
   "cell_type": "code",
   "execution_count": 60,
   "metadata": {},
   "outputs": [
    {
     "data": {
      "text/plain": [
       "False"
      ]
     },
     "execution_count": 60,
     "metadata": {},
     "output_type": "execute_result"
    }
   ],
   "source": [
    "is_referencing(controller_id, 'xyz')"
   ]
  },
  {
   "cell_type": "code",
   "execution_count": 61,
   "metadata": {},
   "outputs": [
    {
     "data": {
      "text/plain": [
       "{'x': True, 'y': True, 'z': True}"
      ]
     },
     "execution_count": 61,
     "metadata": {},
     "output_type": "execute_result"
    }
   ],
   "source": [
    "check_reference_status(controller_id, 'xyz')"
   ]
  },
  {
   "cell_type": "code",
   "execution_count": 99,
   "metadata": {},
   "outputs": [
    {
     "data": {
      "text/plain": [
       "True"
      ]
     },
     "execution_count": 99,
     "metadata": {},
     "output_type": "execute_result"
    }
   ],
   "source": [
    "set_referencing_mode(controller_id, on=False)"
   ]
  },
  {
   "cell_type": "code",
   "execution_count": 100,
   "metadata": {},
   "outputs": [
    {
     "data": {
      "text/plain": [
       "{'x': False, 'y': False, 'z': False}"
      ]
     },
     "execution_count": 100,
     "metadata": {},
     "output_type": "execute_result"
    }
   ],
   "source": [
    "check_referencing_mode(controller_id, 'xyz')"
   ]
  },
  {
   "cell_type": "code",
   "execution_count": 906,
   "metadata": {},
   "outputs": [],
   "source": []
  },
  {
   "cell_type": "code",
   "execution_count": 49,
   "metadata": {},
   "outputs": [
    {
     "data": {
      "text/plain": [
       "1"
      ]
     },
     "execution_count": 49,
     "metadata": {},
     "output_type": "execute_result"
    }
   ],
   "source": [
    "emergency_stop(controller_id)"
   ]
  },
  {
   "cell_type": "code",
   "execution_count": 648,
   "metadata": {},
   "outputs": [
    {
     "data": {
      "text/plain": [
       "1"
      ]
     },
     "execution_count": 648,
     "metadata": {},
     "output_type": "execute_result"
    }
   ],
   "source": [
    "c848.C848_MNL(int_id, char_axes)"
   ]
  },
  {
   "cell_type": "code",
   "execution_count": 264,
   "metadata": {},
   "outputs": [
    {
     "data": {
      "text/plain": [
       "30.0"
      ]
     },
     "execution_count": 264,
     "metadata": {},
     "output_type": "execute_result"
    }
   ],
   "source": [
    "temp[0]"
   ]
  },
  {
   "cell_type": "code",
   "execution_count": 174,
   "metadata": {},
   "outputs": [
    {
     "data": {
      "text/plain": [
       "[37.420001, 28.174001, 0.0]"
      ]
     },
     "execution_count": 174,
     "metadata": {},
     "output_type": "execute_result"
    }
   ],
   "source": [
    "a = d_point[:len(axes)]\n",
    "a"
   ]
  },
  {
   "cell_type": "code",
   "execution_count": 176,
   "metadata": {},
   "outputs": [
    {
     "ename": "IndexError",
     "evalue": "list index out of range",
     "output_type": "error",
     "traceback": [
      "\u001b[1;31m---------------------------------------------------------------------------\u001b[0m",
      "\u001b[1;31mIndexError\u001b[0m                                Traceback (most recent call last)",
      "\u001b[1;32m<ipython-input-176-f75b6be7d8e3>\u001b[0m in \u001b[0;36m<module>\u001b[1;34m\u001b[0m\n\u001b[1;32m----> 1\u001b[1;33m \u001b[0ma\u001b[0m\u001b[1;33m[\u001b[0m\u001b[1;36m3\u001b[0m\u001b[1;33m]\u001b[0m\u001b[1;33m\u001b[0m\u001b[1;33m\u001b[0m\u001b[0m\n\u001b[0m",
      "\u001b[1;31mIndexError\u001b[0m: list index out of range"
     ]
    }
   ],
   "source": [
    "a[3]"
   ]
  },
  {
   "cell_type": "code",
   "execution_count": 158,
   "metadata": {},
   "outputs": [
    {
     "data": {
      "text/plain": [
       "b'ABC'"
      ]
     },
     "execution_count": 158,
     "metadata": {},
     "output_type": "execute_result"
    }
   ],
   "source": [
    "char = get_szAxes('xYz')\n",
    "char.value"
   ]
  },
  {
   "cell_type": "code",
   "execution_count": 162,
   "metadata": {},
   "outputs": [
    {
     "data": {
      "text/plain": [
       "c_long(0)"
      ]
     },
     "execution_count": 162,
     "metadata": {},
     "output_type": "execute_result"
    }
   ],
   "source": [
    "i = convert_id(controller_id)\n",
    "i"
   ]
  },
  {
   "cell_type": "code",
   "execution_count": 21,
   "metadata": {},
   "outputs": [
    {
     "data": {
      "text/plain": [
       "True"
      ]
     },
     "execution_count": 21,
     "metadata": {},
     "output_type": "execute_result"
    }
   ],
   "source": [
    "b = create_bool_array(3)\n",
    "b[0]"
   ]
  },
  {
   "cell_type": "code",
   "execution_count": null,
   "metadata": {},
   "outputs": [],
   "source": []
  },
  {
   "cell_type": "code",
   "execution_count": null,
   "metadata": {},
   "outputs": [],
   "source": [
    "c848.C848_MNL(ctypes.c_int(id), char)"
   ]
  },
  {
   "cell_type": "code",
   "execution_count": 18,
   "metadata": {},
   "outputs": [
    {
     "name": "stdout",
     "output_type": "stream",
     "text": [
      "<CDLL 'C848_DLL.dll', handle 10000000 at 0x3f26eb0>\n",
      "controller_id: None\n"
     ]
    },
    {
     "ename": "TypeError",
     "evalue": "an integer is required (got type NoneType)",
     "output_type": "error",
     "traceback": [
      "\u001b[1;31m---------------------------------------------------------------------------\u001b[0m",
      "\u001b[1;31mTypeError\u001b[0m                                 Traceback (most recent call last)",
      "\u001b[1;32m<ipython-input-18-2a2687509556>\u001b[0m in \u001b[0;36m<module>\u001b[1;34m\u001b[0m\n\u001b[0;32m      4\u001b[0m \u001b[0mcontroller_id\u001b[0m \u001b[1;33m=\u001b[0m \u001b[0mconncect_to_controller\u001b[0m\u001b[1;33m(\u001b[0m\u001b[0mc848\u001b[0m\u001b[1;33m)\u001b[0m\u001b[1;33m\u001b[0m\u001b[1;33m\u001b[0m\u001b[0m\n\u001b[0;32m      5\u001b[0m \u001b[0mprint\u001b[0m\u001b[1;33m(\u001b[0m\u001b[1;34m'controller_id:'\u001b[0m\u001b[1;33m,\u001b[0m \u001b[0mcontroller_id\u001b[0m\u001b[1;33m)\u001b[0m\u001b[1;33m\u001b[0m\u001b[1;33m\u001b[0m\u001b[0m\n\u001b[1;32m----> 6\u001b[1;33m \u001b[0mprint\u001b[0m\u001b[1;33m(\u001b[0m\u001b[1;34m'is connected:'\u001b[0m\u001b[1;33m,\u001b[0m \u001b[0mis_connected\u001b[0m\u001b[1;33m(\u001b[0m\u001b[0mcontroller_id\u001b[0m\u001b[1;33m)\u001b[0m\u001b[1;33m)\u001b[0m\u001b[1;33m\u001b[0m\u001b[1;33m\u001b[0m\u001b[0m\n\u001b[0m",
      "\u001b[1;32m<ipython-input-4-0e609e1f1e01>\u001b[0m in \u001b[0;36mis_connected\u001b[1;34m(controller_id)\u001b[0m\n\u001b[0;32m      4\u001b[0m     \u001b[1;32mreturn\u001b[0m \u001b[1;32mTrue\u001b[0m \u001b[1;32mif\u001b[0m \u001b[0mthere\u001b[0m \u001b[0mconnection\u001b[0m \u001b[0ma\u001b[0m \u001b[0mconnection\u001b[0m \u001b[0mto\u001b[0m \u001b[0mcontroller\u001b[0m \u001b[1;32mwith\u001b[0m \u001b[0mgiven\u001b[0m \u001b[0mcontroller_id\u001b[0m\u001b[1;33m,\u001b[0m \u001b[1;32melse\u001b[0m \u001b[0mreturns\u001b[0m \u001b[0mfalse\u001b[0m\u001b[1;33m\u001b[0m\u001b[1;33m\u001b[0m\u001b[0m\n\u001b[0;32m      5\u001b[0m     '''\n\u001b[1;32m----> 6\u001b[1;33m     \u001b[1;32mreturn\u001b[0m \u001b[0mbool\u001b[0m\u001b[1;33m(\u001b[0m\u001b[0mc848\u001b[0m\u001b[1;33m.\u001b[0m\u001b[0mC848_IsConnected\u001b[0m\u001b[1;33m(\u001b[0m\u001b[0mctypes\u001b[0m\u001b[1;33m.\u001b[0m\u001b[0mc_int\u001b[0m\u001b[1;33m(\u001b[0m\u001b[0mcontroller_id\u001b[0m\u001b[1;33m)\u001b[0m\u001b[1;33m)\u001b[0m\u001b[1;33m)\u001b[0m\u001b[1;33m\u001b[0m\u001b[1;33m\u001b[0m\u001b[0m\n\u001b[0m",
      "\u001b[1;31mTypeError\u001b[0m: an integer is required (got type NoneType)"
     ]
    }
   ],
   "source": [
    "c848 = load_drivers()\n",
    "print(c848)\n",
    "\n",
    "controller_id = conncect_to_controller(c848)\n",
    "print('controller_id:', controller_id)\n",
    "print('is connected:', is_connected(controller_id))"
   ]
  },
  {
   "cell_type": "code",
   "execution_count": 88,
   "metadata": {},
   "outputs": [],
   "source": [
    "close_connection(controller_id)"
   ]
  },
  {
   "cell_type": "code",
   "execution_count": null,
   "metadata": {},
   "outputs": [],
   "source": [
    "A = x\n",
    "B = y\n",
    "C = z"
   ]
  },
  {
   "cell_type": "code",
   "execution_count": null,
   "metadata": {},
   "outputs": [],
   "source": [
    "c848.C848_DEM(ctypes.c_int(id))"
   ]
  },
  {
   "cell_type": "code",
   "execution_count": 35,
   "metadata": {},
   "outputs": [
    {
     "data": {
      "text/plain": [
       "1"
      ]
     },
     "execution_count": 35,
     "metadata": {},
     "output_type": "execute_result"
    }
   ],
   "source": [
    "c848.C848_STP(ctypes.c_int(id))"
   ]
  },
  {
   "cell_type": "code",
   "execution_count": 54,
   "metadata": {},
   "outputs": [],
   "source": [
    "# creates array of 3 doubles and pointer to it\n",
    "arr = (ctypes.c_double * 3)(*range(3))\n",
    "d_point = ctypes.cast(arr, ctypes.POINTER(ctypes.c_double))"
   ]
  },
  {
   "cell_type": "code",
   "execution_count": 55,
   "metadata": {},
   "outputs": [
    {
     "data": {
      "text/plain": [
       "c_char_p(4566184)"
      ]
     },
     "execution_count": 55,
     "metadata": {},
     "output_type": "execute_result"
    }
   ],
   "source": [
    "# empty string (pointer to char)\n",
    "ctypes.c_char_p(b'')"
   ]
  },
  {
   "cell_type": "code",
   "execution_count": 14,
   "metadata": {},
   "outputs": [
    {
     "data": {
      "text/plain": [
       "c_char_p(9219240)"
      ]
     },
     "execution_count": 14,
     "metadata": {},
     "output_type": "execute_result"
    }
   ],
   "source": []
  },
  {
   "cell_type": "code",
   "execution_count": 57,
   "metadata": {},
   "outputs": [
    {
     "data": {
      "text/plain": [
       "1"
      ]
     },
     "execution_count": 57,
     "metadata": {},
     "output_type": "execute_result"
    }
   ],
   "source": [
    "c848.C848_qMOV(ctypes.c_int(controller_id), ctypes.c_char_p(b''), d_point)"
   ]
  },
  {
   "cell_type": "code",
   "execution_count": 58,
   "metadata": {},
   "outputs": [
    {
     "data": {
      "text/plain": [
       "(0.0, 50.0, 0.0)"
      ]
     },
     "execution_count": 58,
     "metadata": {},
     "output_type": "execute_result"
    }
   ],
   "source": [
    "d_point[0], d_point[1], d_point[2], "
   ]
  },
  {
   "cell_type": "code",
   "execution_count": 33,
   "metadata": {},
   "outputs": [
    {
     "data": {
      "text/plain": [
       "(25.0, 25.0, 25.10318)"
      ]
     },
     "execution_count": 33,
     "metadata": {},
     "output_type": "execute_result"
    }
   ],
   "source": [
    "d_point[0], d_point[1], d_point[2], "
   ]
  },
  {
   "cell_type": "code",
   "execution_count": 37,
   "metadata": {},
   "outputs": [
    {
     "data": {
      "text/plain": [
       "(25.264224, 26.681667, 25.883215)"
      ]
     },
     "execution_count": 37,
     "metadata": {},
     "output_type": "execute_result"
    }
   ],
   "source": [
    "d_point[0], d_point[1], d_point[2], "
   ]
  },
  {
   "cell_type": "code",
   "execution_count": 338,
   "metadata": {},
   "outputs": [],
   "source": [
    "char = ctypes.c_char_p('C'.encode('utf-8'))"
   ]
  },
  {
   "cell_type": "code",
   "execution_count": 339,
   "metadata": {},
   "outputs": [
    {
     "data": {
      "text/plain": [
       "b'C'"
      ]
     },
     "execution_count": 339,
     "metadata": {},
     "output_type": "execute_result"
    }
   ],
   "source": [
    "char.value"
   ]
  },
  {
   "cell_type": "code",
   "execution_count": 335,
   "metadata": {},
   "outputs": [],
   "source": [
    "init_ax = c848.C848_INI"
   ]
  },
  {
   "cell_type": "code",
   "execution_count": 336,
   "metadata": {},
   "outputs": [],
   "source": [
    "init_ax.argtypes = [ctypes.c_int, ctypes.c_char_p]"
   ]
  },
  {
   "cell_type": "code",
   "execution_count": 337,
   "metadata": {},
   "outputs": [
    {
     "data": {
      "text/plain": [
       "0"
      ]
     },
     "execution_count": 337,
     "metadata": {},
     "output_type": "execute_result"
    }
   ],
   "source": [
    "init_ax(3, 'C'.encode('utf-8'))"
   ]
  },
  {
   "cell_type": "code",
   "execution_count": 340,
   "metadata": {},
   "outputs": [
    {
     "data": {
      "text/plain": [
       "1"
      ]
     },
     "execution_count": 340,
     "metadata": {},
     "output_type": "execute_result"
    }
   ],
   "source": [
    "c848.C848_MPL(ctypes.c_int(controller_id), char)"
   ]
  },
  {
   "cell_type": "code",
   "execution_count": 346,
   "metadata": {},
   "outputs": [
    {
     "name": "stdout",
     "output_type": "stream",
     "text": [
      "IsReferencing: False\n"
     ]
    }
   ],
   "source": [
    "b = (ctypes.c_bool *1)(1)\n",
    "b = ctypes.cast(b, ctypes.POINTER(ctypes.c_bool))\n",
    "successful = c848.C848_IsReferencing(ctypes.c_int(controller_id), char, b)\n",
    "if successful:\n",
    "    print('IsReferencing:', b[0])"
   ]
  },
  {
   "cell_type": "code",
   "execution_count": 187,
   "metadata": {},
   "outputs": [
    {
     "ename": "ArgumentError",
     "evalue": "argument 1: <class 'TypeError'>: Don't know how to convert parameter 1",
     "output_type": "error",
     "traceback": [
      "\u001b[1;31m---------------------------------------------------------------------------\u001b[0m",
      "\u001b[1;31mArgumentError\u001b[0m                             Traceback (most recent call last)",
      "\u001b[1;32m<ipython-input-187-0991798afdfd>\u001b[0m in \u001b[0;36m<module>\u001b[1;34m\u001b[0m\n\u001b[0;32m      1\u001b[0m \u001b[0mb\u001b[0m \u001b[1;33m=\u001b[0m \u001b[1;33m(\u001b[0m\u001b[0mctypes\u001b[0m\u001b[1;33m.\u001b[0m\u001b[0mc_double\u001b[0m \u001b[1;33m*\u001b[0m\u001b[1;36m10\u001b[0m\u001b[1;33m)\u001b[0m\u001b[1;33m(\u001b[0m\u001b[1;33m*\u001b[0m\u001b[0mrange\u001b[0m\u001b[1;33m(\u001b[0m\u001b[1;36m10\u001b[0m\u001b[1;33m)\u001b[0m\u001b[1;33m)\u001b[0m\u001b[1;33m\u001b[0m\u001b[1;33m\u001b[0m\u001b[0m\n\u001b[0;32m      2\u001b[0m \u001b[0mb\u001b[0m \u001b[1;33m=\u001b[0m \u001b[0mctypes\u001b[0m\u001b[1;33m.\u001b[0m\u001b[0mcast\u001b[0m\u001b[1;33m(\u001b[0m\u001b[0mb\u001b[0m\u001b[1;33m,\u001b[0m \u001b[0mctypes\u001b[0m\u001b[1;33m.\u001b[0m\u001b[0mPOINTER\u001b[0m\u001b[1;33m(\u001b[0m\u001b[0mctypes\u001b[0m\u001b[1;33m.\u001b[0m\u001b[0mc_double\u001b[0m\u001b[1;33m)\u001b[0m\u001b[1;33m)\u001b[0m\u001b[1;33m\u001b[0m\u001b[1;33m\u001b[0m\u001b[0m\n\u001b[1;32m----> 3\u001b[1;33m \u001b[0msuccessful\u001b[0m \u001b[1;33m=\u001b[0m \u001b[0mc848\u001b[0m\u001b[1;33m.\u001b[0m\u001b[0mC848_qNLM\u001b[0m\u001b[1;33m(\u001b[0m\u001b[1;33m(\u001b[0m\u001b[0mctypes\u001b[0m\u001b[1;33m.\u001b[0m\u001b[0mc_int\u001b[0m\u001b[1;33m(\u001b[0m\u001b[0mid\u001b[0m\u001b[1;33m)\u001b[0m\u001b[1;33m,\u001b[0m \u001b[0mchar\u001b[0m\u001b[1;33m,\u001b[0m \u001b[0mb\u001b[0m\u001b[1;33m)\u001b[0m\u001b[1;33m)\u001b[0m\u001b[1;33m\u001b[0m\u001b[1;33m\u001b[0m\u001b[0m\n\u001b[0m\u001b[0;32m      4\u001b[0m \u001b[1;32mif\u001b[0m \u001b[0msuccessful\u001b[0m\u001b[1;33m:\u001b[0m\u001b[1;33m\u001b[0m\u001b[1;33m\u001b[0m\u001b[0m\n\u001b[0;32m      5\u001b[0m     \u001b[0mprint\u001b[0m\u001b[1;33m(\u001b[0m\u001b[1;34m'IsReferencing:'\u001b[0m\u001b[1;33m,\u001b[0m \u001b[0mb\u001b[0m\u001b[1;33m[\u001b[0m\u001b[1;36m0\u001b[0m\u001b[1;33m]\u001b[0m\u001b[1;33m)\u001b[0m\u001b[1;33m\u001b[0m\u001b[1;33m\u001b[0m\u001b[0m\n",
      "\u001b[1;31mArgumentError\u001b[0m: argument 1: <class 'TypeError'>: Don't know how to convert parameter 1"
     ]
    }
   ],
   "source": [
    "b = (ctypes.c_double *10)(*range(10))\n",
    "b = ctypes.cast(b, ctypes.POINTER(ctypes.c_double))\n",
    "successful = c848.C848_qNLM((ctypes.c_int(id), char, b))\n",
    "if successful:\n",
    "    print('IsReferencing:', b[0])"
   ]
  },
  {
   "cell_type": "code",
   "execution_count": 178,
   "metadata": {},
   "outputs": [],
   "source": [
    "b = (ctypes.c_bool *3)(1, 1, 1)\n",
    "b = ctypes.cast(b, ctypes.POINTER(ctypes.c_bool))"
   ]
  },
  {
   "cell_type": "code",
   "execution_count": 175,
   "metadata": {},
   "outputs": [
    {
     "data": {
      "text/plain": [
       "True"
      ]
     },
     "execution_count": 175,
     "metadata": {},
     "output_type": "execute_result"
    }
   ],
   "source": [
    "b[2]"
   ]
  },
  {
   "cell_type": "code",
   "execution_count": null,
   "metadata": {},
   "outputs": [],
   "source": [
    "A = x\n",
    "B = y\n",
    "C = z"
   ]
  },
  {
   "cell_type": "code",
   "execution_count": 202,
   "metadata": {},
   "outputs": [],
   "source": [
    "cont_id = ctypes.c_int(id)\n",
    "ax = ctypes.c_char_p('A'.encode('utf-8'))\n",
    "arr = (ctypes.c_double * 1)(25)\n",
    "positions = ctypes.cast(arr, ctypes.POINTER(ctypes.c_double))"
   ]
  },
  {
   "cell_type": "code",
   "execution_count": 199,
   "metadata": {},
   "outputs": [
    {
     "data": {
      "text/plain": [
       "0.0"
      ]
     },
     "execution_count": 199,
     "metadata": {},
     "output_type": "execute_result"
    }
   ],
   "source": [
    "d_point[2]"
   ]
  },
  {
   "cell_type": "code",
   "execution_count": 332,
   "metadata": {},
   "outputs": [],
   "source": [
    "# BOOL C848_MOV (const int ID, char *const szAxes, double * pdValarray)\n",
    "# Move szAxes to absolute position\n",
    "cont_id = ctypes.c_int(controller_id)\n",
    "ax = ctypes.c_char_p('C'.encode('utf-8'))\n",
    "arr = (ctypes.c_double * 2)(10.1)\n",
    "positions = ctypes.cast(arr, ctypes.POINTER(ctypes.c_double))"
   ]
  },
  {
   "cell_type": "code",
   "execution_count": 333,
   "metadata": {},
   "outputs": [
    {
     "data": {
      "text/plain": [
       "0"
      ]
     },
     "execution_count": 333,
     "metadata": {},
     "output_type": "execute_result"
    }
   ],
   "source": [
    "c848.C848_MOV(cont_id, ax, positions)"
   ]
  },
  {
   "cell_type": "code",
   "execution_count": 10,
   "metadata": {},
   "outputs": [
    {
     "data": {
      "text/plain": [
       "False"
      ]
     },
     "execution_count": 10,
     "metadata": {},
     "output_type": "execute_result"
    }
   ],
   "source": [
    "# BOOL C848_qREF (const int ID, char *const szAxes, BOOL * pbValarray)\n",
    "# check if given axis has reference\n",
    "c_id = ctypes.c_int(controller_id)\n",
    "ax = ctypes.c_char_p('ABC'.encode('utf-8'))\n",
    "b = (ctypes.c_bool *1)(0)\n",
    "b = ctypes.cast(b, ctypes.POINTER(ctypes.c_bool))\n",
    "b[0]"
   ]
  },
  {
   "cell_type": "code",
   "execution_count": 11,
   "metadata": {},
   "outputs": [
    {
     "data": {
      "text/plain": [
       "(1, True)"
      ]
     },
     "execution_count": 11,
     "metadata": {},
     "output_type": "execute_result"
    }
   ],
   "source": [
    "c848.C848_qREF(c_id, ax, b), b[0]"
   ]
  },
  {
   "cell_type": "code",
   "execution_count": 68,
   "metadata": {},
   "outputs": [
    {
     "data": {
      "text/plain": [
       "(b'ZZZ', c_long(4))"
      ]
     },
     "execution_count": 68,
     "metadata": {},
     "output_type": "execute_result"
    }
   ],
   "source": [
    "# BOOL C848_qSAI (const int ID, char * axes, const int maxlen)\n",
    "# check what axes are connected:\n",
    "c_id = ctypes.c_int(controller_id)\n",
    "ax = ctypes.c_char_p('ZZZ'.encode('utf-8'))\n",
    "buff = ctypes.c_int(4)\n",
    "ax.value, buff"
   ]
  },
  {
   "cell_type": "code",
   "execution_count": 69,
   "metadata": {},
   "outputs": [
    {
     "data": {
      "text/plain": [
       "(1, b'ABC')"
      ]
     },
     "execution_count": 69,
     "metadata": {},
     "output_type": "execute_result"
    }
   ],
   "source": [
    "c848.C848_qSAI(c_id, ax, buff), ax.value"
   ]
  },
  {
   "cell_type": "code",
   "execution_count": 123,
   "metadata": {},
   "outputs": [
    {
     "data": {
      "text/plain": [
       "(c_long(0), b'ABC', 1.111)"
      ]
     },
     "execution_count": 123,
     "metadata": {},
     "output_type": "execute_result"
    }
   ],
   "source": [
    "# BOOL C848_qPOS (const int ID, char *const szAxes, double * pdValarray)\n",
    "# Get the positions of szAxes. You can call C848_HasPosChanged() (p.17) to find out if this call is necessary.\n",
    "c_id = ctypes.c_int(controller_id)\n",
    "ax = ctypes.c_char_p('ABC'.encode('utf-8'))\n",
    "arr = (ctypes.c_double * 3)(1.111, 1.111, 1.111)#, 4, 11)\n",
    "d_point = ctypes.cast(arr, ctypes.POINTER(ctypes.c_double))\n",
    "\n",
    "\n",
    "c_id, ax.value, d_point[0]"
   ]
  },
  {
   "cell_type": "code",
   "execution_count": 125,
   "metadata": {},
   "outputs": [
    {
     "name": "stdout",
     "output_type": "stream",
     "text": [
      "37.420001 28.174001 0.0\n"
     ]
    }
   ],
   "source": [
    "if c848.C848_qPOS(c_id, ax, d_point):\n",
    "    print(d_point[0], d_point[1], d_point[2])\n",
    "else:\n",
    "    print('cos nie dziala')"
   ]
  },
  {
   "cell_type": "code",
   "execution_count": null,
   "metadata": {},
   "outputs": [],
   "source": []
  }
 ],
 "metadata": {
  "kernelspec": {
   "display_name": "Python 3",
   "language": "python",
   "name": "python3"
  },
  "language_info": {
   "codemirror_mode": {
    "name": "ipython",
    "version": 3
   },
   "file_extension": ".py",
   "mimetype": "text/x-python",
   "name": "python",
   "nbconvert_exporter": "python",
   "pygments_lexer": "ipython3",
   "version": "3.8.5"
  }
 },
 "nbformat": 4,
 "nbformat_minor": 4
}
